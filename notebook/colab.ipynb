{
  "nbformat": 4,
  "nbformat_minor": 0,
  "metadata": {
    "colab": {
      "name": "DREEM.ipynb",
      "provenance": [],
      "collapsed_sections": [],
      "toc_visible": true
    },
    "kernelspec": {
      "name": "python3",
      "display_name": "Python 3"
    },
    "accelerator": "GPU"
  },
  "cells": [
    {
      "cell_type": "code",
      "metadata": {
        "id": "kVUdnUq3dvDk",
        "colab_type": "code",
        "colab": {}
      },
      "source": [
        "!cp --recursive /content/drive/My\\ Drive/Colab\\ Notebooks/arch ."
      ],
      "execution_count": 0,
      "outputs": []
    },
    {
      "cell_type": "code",
      "metadata": {
        "id": "hpZPdbssWKpr",
        "colab_type": "code",
        "colab": {}
      },
      "source": [
        "!d=/content/arch/data/Dreem && mkdir -p \"$d\" && cp --recursive /content/drive/My\\ Drive/train \"$d\""
      ],
      "execution_count": 0,
      "outputs": []
    },
    {
      "cell_type": "code",
      "metadata": {
        "id": "W99a2jobt1Dt",
        "colab_type": "code",
        "colab": {}
      },
      "source": [
        "!d=/content/arch/data/Dreem && cp --recursive /content/drive/My\\ Drive/test \"$d\""
      ],
      "execution_count": 0,
      "outputs": []
    },
    {
      "cell_type": "code",
      "metadata": {
        "id": "yua1-GG0qSL-",
        "colab_type": "code",
        "colab": {}
      },
      "source": [
        "!wget https://bin.equinox.io/c/4VmDzA7iaHb/ngrok-stable-linux-amd64.zip\n",
        "!unzip ngrok-stable-linux-amd64.zip\n",
        "LOG_DIR = './arch/saved'"
      ],
      "execution_count": 0,
      "outputs": []
    },
    {
      "cell_type": "code",
      "metadata": {
        "id": "YCOjyCZ6sLof",
        "colab_type": "code",
        "colab": {}
      },
      "source": [
        "get_ipython().system_raw(    'tensorboard --logdir {} --host 0.0.0.0 --port 6006 &'.format(LOG_DIR))"
      ],
      "execution_count": 0,
      "outputs": []
    },
    {
      "cell_type": "code",
      "metadata": {
        "id": "OY-UVjYcd3bX",
        "colab_type": "code",
        "colab": {}
      },
      "source": [
        "get_ipython().system_raw('./ngrok http 6006 &')"
      ],
      "execution_count": 0,
      "outputs": []
    },
    {
      "cell_type": "code",
      "metadata": {
        "id": "aMxMC64Vd8aX",
        "colab_type": "code",
        "colab": {}
      },
      "source": [
        "!curl -s http://localhost:4040/api/tunnels | python3 -c \\\n",
        "    \"import sys, json; print(json.load(sys.stdin)['tunnels'][0]['public_url'])\""
      ],
      "execution_count": 0,
      "outputs": []
    },
    {
      "cell_type": "markdown",
      "metadata": {
        "id": "zsnqLWPYnFxh",
        "colab_type": "text"
      },
      "source": [
        ""
      ]
    },
    {
      "cell_type": "code",
      "metadata": {
        "id": "K4mj15NV859C",
        "colab_type": "code",
        "colab": {}
      },
      "source": [
        "!cd arch && python train.py -c config_dreem.json"
      ],
      "execution_count": 0,
      "outputs": []
    },
    {
      "cell_type": "code",
      "metadata": {
        "id": "0IQOS51RpLNr",
        "colab_type": "code",
        "colab": {}
      },
      "source": [
        "!cd arch && python test.py -r /content/arch/saved/models/Dreem/0301_021613/model_best.pth"
      ],
      "execution_count": 0,
      "outputs": []
    },
    {
      "cell_type": "code",
      "metadata": {
        "id": "biQ8Bg1WsD39",
        "colab_type": "code",
        "colab": {}
      },
      "source": [
        "!cat arch/out.csv | wc -l"
      ],
      "execution_count": 0,
      "outputs": []
    },
    {
      "cell_type": "markdown",
      "metadata": {
        "id": "rAbRDmQZbJJL",
        "colab_type": "text"
      },
      "source": [
        ""
      ]
    }
  ]
}